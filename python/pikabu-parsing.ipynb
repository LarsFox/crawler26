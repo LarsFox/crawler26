{
 "cells": [
  {
   "cell_type": "code",
   "execution_count": 59,
   "metadata": {},
   "outputs": [],
   "source": [
    "import json\n",
    "\n",
    "from bs4 import BeautifulSoup\n"
   ]
  },
  {
   "cell_type": "code",
   "execution_count": 12,
   "metadata": {},
   "outputs": [],
   "source": [
    "with open('../output/pikabu.html', 'r') as target:\n",
    "    soup = BeautifulSoup(target.read(), 'html.parser')"
   ]
  },
  {
   "cell_type": "code",
   "execution_count": 44,
   "metadata": {},
   "outputs": [
    {
     "data": {
      "text/plain": [
       "101"
      ]
     },
     "execution_count": 44,
     "metadata": {},
     "output_type": "execute_result"
    }
   ],
   "source": [
    "comments = soup.select(\"div.comments-wrapper div.comment__body\")\n",
    "text_comments = [c for c in comments if c.select(\"div.comments-wrapper div.comment__content p\")]"
   ]
  },
  {
   "cell_type": "code",
   "execution_count": 53,
   "metadata": {},
   "outputs": [],
   "source": [
    "texts = [c.select(\"div.comments-wrapper div.comment__content p\")[0] for c in text_comments]\n",
    "users = [c.select(\"div.comments-wrapper div.comment__user span.user__nick\") for c in text_comments]\n"
   ]
  },
  {
   "cell_type": "code",
   "execution_count": 62,
   "metadata": {},
   "outputs": [],
   "source": [
    "result = [\n",
    "    {\"author\": users[i].text.strip(), \"text\": t.text.strip()}\n",
    "    for i, t in enumerate(texts)\n",
    "]\n",
    "\n",
    "with open('../output/pikabu.json', 'w') as target:\n",
    "    target.write(json.dumps(result, ensure_ascii=False))\n"
   ]
  }
 ],
 "metadata": {
  "kernelspec": {
   "display_name": "Python 3.7.4 64-bit",
   "language": "python",
   "name": "python37464bit4a686a7002404f32a386fc845d85423a"
  },
  "language_info": {
   "codemirror_mode": {
    "name": "ipython",
    "version": 3
   },
   "file_extension": ".py",
   "mimetype": "text/x-python",
   "name": "python",
   "nbconvert_exporter": "python",
   "pygments_lexer": "ipython3",
   "version": "3.7.7"
  }
 },
 "nbformat": 4,
 "nbformat_minor": 2
}
